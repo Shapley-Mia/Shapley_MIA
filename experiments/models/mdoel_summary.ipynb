{
 "cells": [
  {
   "cell_type": "code",
   "execution_count": 15,
   "metadata": {},
   "outputs": [],
   "source": [
    "from torchsummary import summary\n",
    "\n",
    "from mnist_model import MNIST_Expanded_CNN\n",
    "from fmnist_model import FMNIST_Expanded_CNN\n",
    "from mnist_shadow_model import Net_mnist\n",
    "from cifar_shadow_model import Net_cifar10"
   ]
  },
  {
   "cell_type": "markdown",
   "metadata": {},
   "source": [
    "# 1. FL Training Models"
   ]
  },
  {
   "cell_type": "markdown",
   "metadata": {},
   "source": [
    "# 1.1. MNIST MODEL"
   ]
  },
  {
   "cell_type": "code",
   "execution_count": 6,
   "metadata": {},
   "outputs": [
    {
     "name": "stdout",
     "output_type": "stream",
     "text": [
      "----------------------------------------------------------------\n",
      "        Layer (type)               Output Shape         Param #\n",
      "================================================================\n",
      "            Conv2d-1           [-1, 16, 28, 28]             416\n",
      "              ReLU-2           [-1, 16, 28, 28]               0\n",
      "            Conv2d-3           [-1, 32, 28, 28]          12,832\n",
      "              ReLU-4           [-1, 32, 28, 28]               0\n",
      "            Conv2d-5           [-1, 32, 28, 28]          25,632\n",
      "              ReLU-6           [-1, 32, 28, 28]               0\n",
      "            Linear-7                 [-1, 1000]      25,089,000\n",
      "              ReLU-8                 [-1, 1000]               0\n",
      "           Dropout-9                 [-1, 1000]               0\n",
      "           Linear-10                  [-1, 250]         250,250\n",
      "             ReLU-11                  [-1, 250]               0\n",
      "          Dropout-12                  [-1, 250]               0\n",
      "           Linear-13                  [-1, 100]          25,100\n",
      "             ReLU-14                  [-1, 100]               0\n",
      "          Dropout-15                  [-1, 100]               0\n",
      "           Linear-16                   [-1, 10]           1,010\n",
      "================================================================\n",
      "Total params: 25,404,240\n",
      "Trainable params: 25,404,240\n",
      "Non-trainable params: 0\n",
      "----------------------------------------------------------------\n",
      "Input size (MB): 0.00\n",
      "Forward/backward pass size (MB): 0.99\n",
      "Params size (MB): 96.91\n",
      "Estimated Total Size (MB): 97.90\n",
      "----------------------------------------------------------------\n"
     ]
    }
   ],
   "source": [
    "mnist_net = MNIST_Expanded_CNN()\n",
    "summary(mnist_net, (1, 28, 28), device='cpu')"
   ]
  },
  {
   "cell_type": "markdown",
   "metadata": {},
   "source": [
    "# 1.2. FMNIST MODEL"
   ]
  },
  {
   "cell_type": "code",
   "execution_count": 7,
   "metadata": {},
   "outputs": [
    {
     "name": "stdout",
     "output_type": "stream",
     "text": [
      "----------------------------------------------------------------\n",
      "        Layer (type)               Output Shape         Param #\n",
      "================================================================\n",
      "            Conv2d-1           [-1, 16, 28, 28]             416\n",
      "              ReLU-2           [-1, 16, 28, 28]               0\n",
      "            Conv2d-3           [-1, 32, 28, 28]          12,832\n",
      "              ReLU-4           [-1, 32, 28, 28]               0\n",
      "            Conv2d-5           [-1, 32, 28, 28]          25,632\n",
      "              ReLU-6           [-1, 32, 28, 28]               0\n",
      "            Linear-7                 [-1, 1000]      25,089,000\n",
      "              ReLU-8                 [-1, 1000]               0\n",
      "           Dropout-9                 [-1, 1000]               0\n",
      "           Linear-10                  [-1, 250]         250,250\n",
      "             ReLU-11                  [-1, 250]               0\n",
      "          Dropout-12                  [-1, 250]               0\n",
      "           Linear-13                  [-1, 100]          25,100\n",
      "             ReLU-14                  [-1, 100]               0\n",
      "          Dropout-15                  [-1, 100]               0\n",
      "           Linear-16                   [-1, 10]           1,010\n",
      "================================================================\n",
      "Total params: 25,404,240\n",
      "Trainable params: 25,404,240\n",
      "Non-trainable params: 0\n",
      "----------------------------------------------------------------\n",
      "Input size (MB): 0.00\n",
      "Forward/backward pass size (MB): 0.99\n",
      "Params size (MB): 96.91\n",
      "Estimated Total Size (MB): 97.90\n",
      "----------------------------------------------------------------\n"
     ]
    }
   ],
   "source": [
    "fmnist_net = FMNIST_Expanded_CNN()\n",
    "summary(fmnist_net, (1, 28, 28), device='cpu')"
   ]
  },
  {
   "cell_type": "markdown",
   "metadata": {},
   "source": [
    "# 2. Shadow Models"
   ]
  },
  {
   "cell_type": "markdown",
   "metadata": {},
   "source": [
    "## 2.1 MNIST and FMNIST"
   ]
  },
  {
   "cell_type": "code",
   "execution_count": 17,
   "metadata": {},
   "outputs": [
    {
     "name": "stdout",
     "output_type": "stream",
     "text": [
      "----------------------------------------------------------------\n",
      "        Layer (type)               Output Shape         Param #\n",
      "================================================================\n",
      "            Conv2d-1           [-1, 20, 24, 24]             520\n",
      "            Conv2d-2             [-1, 50, 8, 8]          25,050\n",
      "            Linear-3                  [-1, 128]         102,528\n",
      "            Linear-4                   [-1, 10]           1,290\n",
      "================================================================\n",
      "Total params: 129,388\n",
      "Trainable params: 129,388\n",
      "Non-trainable params: 0\n",
      "----------------------------------------------------------------\n",
      "Input size (MB): 0.00\n",
      "Forward/backward pass size (MB): 0.11\n",
      "Params size (MB): 0.49\n",
      "Estimated Total Size (MB): 0.61\n",
      "----------------------------------------------------------------\n"
     ]
    }
   ],
   "source": [
    "mnist_shadow_net = Net_mnist()\n",
    "summary(mnist_shadow_net, (1, 28, 28), device='cpu')"
   ]
  },
  {
   "cell_type": "code",
   "execution_count": 18,
   "metadata": {},
   "outputs": [
    {
     "data": {
      "text/plain": [
       "Net_mnist(\n",
       "  (conv1): Conv2d(1, 20, kernel_size=(5, 5), stride=(1, 1))\n",
       "  (conv2): Conv2d(20, 50, kernel_size=(5, 5), stride=(1, 1))\n",
       "  (fc1): Linear(in_features=800, out_features=128, bias=True)\n",
       "  (fc2): Linear(in_features=128, out_features=10, bias=True)\n",
       ")"
      ]
     },
     "execution_count": 18,
     "metadata": {},
     "output_type": "execute_result"
    }
   ],
   "source": [
    "mnist_shadow_net"
   ]
  },
  {
   "cell_type": "markdown",
   "metadata": {},
   "source": [
    "## CIFAR10"
   ]
  },
  {
   "cell_type": "code",
   "execution_count": 19,
   "metadata": {},
   "outputs": [
    {
     "name": "stdout",
     "output_type": "stream",
     "text": [
      "----------------------------------------------------------------\n",
      "        Layer (type)               Output Shape         Param #\n",
      "================================================================\n",
      "            Conv2d-1            [-1, 6, 28, 28]             456\n",
      "         MaxPool2d-2            [-1, 6, 14, 14]               0\n",
      "            Conv2d-3           [-1, 16, 10, 10]           2,416\n",
      "         MaxPool2d-4             [-1, 16, 5, 5]               0\n",
      "            Linear-5                  [-1, 128]          51,328\n",
      "            Linear-6                   [-1, 10]           1,290\n",
      "================================================================\n",
      "Total params: 55,490\n",
      "Trainable params: 55,490\n",
      "Non-trainable params: 0\n",
      "----------------------------------------------------------------\n",
      "Input size (MB): 0.01\n",
      "Forward/backward pass size (MB): 0.06\n",
      "Params size (MB): 0.21\n",
      "Estimated Total Size (MB): 0.28\n",
      "----------------------------------------------------------------\n"
     ]
    }
   ],
   "source": [
    "cifar_shadow_net = Net_cifar10()\n",
    "summary(cifar_shadow_net, (3, 32, 32), device='cpu')"
   ]
  }
 ],
 "metadata": {
  "kernelspec": {
   "display_name": "main",
   "language": "python",
   "name": "python3"
  },
  "language_info": {
   "codemirror_mode": {
    "name": "ipython",
    "version": 3
   },
   "file_extension": ".py",
   "mimetype": "text/x-python",
   "name": "python",
   "nbconvert_exporter": "python",
   "pygments_lexer": "ipython3",
   "version": "3.12.1"
  }
 },
 "nbformat": 4,
 "nbformat_minor": 2
}
